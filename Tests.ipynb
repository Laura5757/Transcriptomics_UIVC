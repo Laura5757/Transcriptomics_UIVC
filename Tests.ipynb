{
 "cells": [
  {
   "cell_type": "code",
   "execution_count": 1,
   "id": "46a62d64-af64-4735-9bab-957d330c88b9",
   "metadata": {},
   "outputs": [],
   "source": [
    "import rna_uivc"
   ]
  },
  {
   "cell_type": "code",
   "execution_count": 2,
   "id": "66c2cbab-7321-41e4-afc1-2d10d1763265",
   "metadata": {},
   "outputs": [],
   "source": [
    "file2 = '/home/diego/Downloads/cluster_mcode_pos_monocyte_vs_gmcsf.csv'\n",
    "file1 = '/home/diego/Downloads/pos_string_interactions_short.tsv'"
   ]
  },
  {
   "cell_type": "code",
   "execution_count": 3,
   "id": "f3de1b4b-8128-43c7-9414-45deef7c35df",
   "metadata": {},
   "outputs": [],
   "source": [
    "clusters_graph = rna_uivc.tools.get_clusters_network(file1, file2)"
   ]
  },
  {
   "cell_type": "code",
   "execution_count": 9,
   "id": "a6769e33-7a99-41d7-b1e7-352fd0e0f9c7",
   "metadata": {},
   "outputs": [
    {
     "name": "stdout",
     "output_type": "stream",
     "text": [
      "14 11\n",
      "15 4\n",
      "19 2\n",
      "8 11\n",
      "22 8\n",
      "23 4\n",
      "5 5\n",
      "1 7\n",
      "24 1\n",
      "20 5\n",
      "25 1\n",
      "4 4\n",
      "17 3\n",
      "2 3\n",
      "16 2\n",
      "3 4\n",
      "21 1\n",
      "9 4\n",
      "6 2\n",
      "28 2\n",
      "7 1\n",
      "10 4\n",
      "11 1\n",
      "26 2\n",
      "18 1\n",
      "12 1\n",
      "13 1\n",
      "29 1\n"
     ]
    }
   ],
   "source": [
    "for node in clusters_graph:\n",
    "    print(node, len(clusters_graph[node]))"
   ]
  },
  {
   "cell_type": "code",
   "execution_count": null,
   "id": "1f337b45-aca8-4823-b0ab-28e5134abf4b",
   "metadata": {},
   "outputs": [],
   "source": []
  }
 ],
 "metadata": {
  "kernelspec": {
   "display_name": "Python 3 (ipykernel)",
   "language": "python",
   "name": "python3"
  },
  "language_info": {
   "codemirror_mode": {
    "name": "ipython",
    "version": 3
   },
   "file_extension": ".py",
   "mimetype": "text/x-python",
   "name": "python",
   "nbconvert_exporter": "python",
   "pygments_lexer": "ipython3",
   "version": "3.10.14"
  }
 },
 "nbformat": 4,
 "nbformat_minor": 5
}
